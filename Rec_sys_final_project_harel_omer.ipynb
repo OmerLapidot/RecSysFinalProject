{
 "cells": [
  {
   "cell_type": "markdown",
   "metadata": {
    "id": "f4dpxTTFCNQi"
   },
   "source": [
    "## How To Run:\n",
    "Just Run all the cells below, make sure you have in hte same directory the ml-100k dataset\n",
    "\n",
    "Harel Damari 305792020\n",
    "Omer Lapidot"
   ]
  },
  {
   "cell_type": "code",
   "execution_count": 1,
   "metadata": {
    "id": "pK__TGE8ABxK"
   },
   "outputs": [],
   "source": [
    "import os\n",
    "import numpy as np\n",
    "import pandas as pd\n",
    "import matplotlib.pyplot as plt\n",
    "from sklearn.model_selection import train_test_split\n",
    "from sklearn.preprocessing import LabelEncoder\n",
    "from tqdm import tqdm\n",
    "import tensorflow as tf\n",
    "from keras.models import Model\n",
    "from keras.layers import Input, Reshape, Dot\n",
    "from keras.layers  import Embedding\n",
    "from keras.optimizers import Adam\n",
    "from keras.regularizers import l2\n",
    "from keras.layers import Concatenate, Dense, Dropout\n",
    "from keras.layers import Add, Activation, Lambda\n",
    "\n",
    "import tensorflow as tf\n",
    "from tensorflow import keras\n",
    "from pprint import pprint\n",
    "np.random.seed(31415)"
   ]
  },
  {
   "cell_type": "code",
   "execution_count": 2,
   "metadata": {},
   "outputs": [
    {
     "data": {
      "text/html": [
       "<div>\n",
       "<style scoped>\n",
       "    .dataframe tbody tr th:only-of-type {\n",
       "        vertical-align: middle;\n",
       "    }\n",
       "\n",
       "    .dataframe tbody tr th {\n",
       "        vertical-align: top;\n",
       "    }\n",
       "\n",
       "    .dataframe thead th {\n",
       "        text-align: right;\n",
       "    }\n",
       "</style>\n",
       "<table border=\"1\" class=\"dataframe\">\n",
       "  <thead>\n",
       "    <tr style=\"text-align: right;\">\n",
       "      <th></th>\n",
       "      <th>user id</th>\n",
       "      <th>age</th>\n",
       "      <th>sex</th>\n",
       "      <th>occupation</th>\n",
       "      <th>zip_code</th>\n",
       "    </tr>\n",
       "  </thead>\n",
       "  <tbody>\n",
       "    <tr>\n",
       "      <th>0</th>\n",
       "      <td>1</td>\n",
       "      <td>24</td>\n",
       "      <td>M</td>\n",
       "      <td>technician</td>\n",
       "      <td>85711</td>\n",
       "    </tr>\n",
       "    <tr>\n",
       "      <th>1</th>\n",
       "      <td>2</td>\n",
       "      <td>53</td>\n",
       "      <td>F</td>\n",
       "      <td>other</td>\n",
       "      <td>94043</td>\n",
       "    </tr>\n",
       "    <tr>\n",
       "      <th>2</th>\n",
       "      <td>3</td>\n",
       "      <td>23</td>\n",
       "      <td>M</td>\n",
       "      <td>writer</td>\n",
       "      <td>32067</td>\n",
       "    </tr>\n",
       "    <tr>\n",
       "      <th>3</th>\n",
       "      <td>4</td>\n",
       "      <td>24</td>\n",
       "      <td>M</td>\n",
       "      <td>technician</td>\n",
       "      <td>43537</td>\n",
       "    </tr>\n",
       "    <tr>\n",
       "      <th>4</th>\n",
       "      <td>5</td>\n",
       "      <td>33</td>\n",
       "      <td>F</td>\n",
       "      <td>other</td>\n",
       "      <td>15213</td>\n",
       "    </tr>\n",
       "  </tbody>\n",
       "</table>\n",
       "</div>"
      ],
      "text/plain": [
       "   user id  age sex  occupation zip_code\n",
       "0        1   24   M  technician    85711\n",
       "1        2   53   F       other    94043\n",
       "2        3   23   M      writer    32067\n",
       "3        4   24   M  technician    43537\n",
       "4        5   33   F       other    15213"
      ]
     },
     "execution_count": 2,
     "metadata": {},
     "output_type": "execute_result"
    }
   ],
   "source": [
    "users_cols = ['user id', 'age', 'sex', 'occupation', 'zip_code']\n",
    "users = pd.read_csv('ml-100k/u.user', sep='|', names=users_cols, encoding='latin-1')\n",
    "users.head()"
   ]
  },
  {
   "cell_type": "code",
   "execution_count": 3,
   "metadata": {
    "colab": {
     "base_uri": "https://localhost:8080/",
     "height": 195
    },
    "id": "_Dm64PwPO89K",
    "outputId": "0ae36ed1-adf8-4dd7-ac16-8c9473e20eba"
   },
   "outputs": [
    {
     "data": {
      "text/html": [
       "<div>\n",
       "<style scoped>\n",
       "    .dataframe tbody tr th:only-of-type {\n",
       "        vertical-align: middle;\n",
       "    }\n",
       "\n",
       "    .dataframe tbody tr th {\n",
       "        vertical-align: top;\n",
       "    }\n",
       "\n",
       "    .dataframe thead th {\n",
       "        text-align: right;\n",
       "    }\n",
       "</style>\n",
       "<table border=\"1\" class=\"dataframe\">\n",
       "  <thead>\n",
       "    <tr style=\"text-align: right;\">\n",
       "      <th></th>\n",
       "      <th>user id</th>\n",
       "      <th>movie id</th>\n",
       "      <th>rating</th>\n",
       "      <th>timestamp</th>\n",
       "    </tr>\n",
       "  </thead>\n",
       "  <tbody>\n",
       "    <tr>\n",
       "      <th>0</th>\n",
       "      <td>196</td>\n",
       "      <td>241</td>\n",
       "      <td>3</td>\n",
       "      <td>881250949</td>\n",
       "    </tr>\n",
       "    <tr>\n",
       "      <th>1</th>\n",
       "      <td>186</td>\n",
       "      <td>301</td>\n",
       "      <td>3</td>\n",
       "      <td>891717742</td>\n",
       "    </tr>\n",
       "    <tr>\n",
       "      <th>2</th>\n",
       "      <td>22</td>\n",
       "      <td>376</td>\n",
       "      <td>1</td>\n",
       "      <td>878887116</td>\n",
       "    </tr>\n",
       "    <tr>\n",
       "      <th>3</th>\n",
       "      <td>244</td>\n",
       "      <td>50</td>\n",
       "      <td>2</td>\n",
       "      <td>880606923</td>\n",
       "    </tr>\n",
       "    <tr>\n",
       "      <th>4</th>\n",
       "      <td>166</td>\n",
       "      <td>345</td>\n",
       "      <td>1</td>\n",
       "      <td>886397596</td>\n",
       "    </tr>\n",
       "  </tbody>\n",
       "</table>\n",
       "</div>"
      ],
      "text/plain": [
       "   user id  movie id  rating  timestamp\n",
       "0      196       241       3  881250949\n",
       "1      186       301       3  891717742\n",
       "2       22       376       1  878887116\n",
       "3      244        50       2  880606923\n",
       "4      166       345       1  886397596"
      ]
     },
     "execution_count": 3,
     "metadata": {},
     "output_type": "execute_result"
    }
   ],
   "source": [
    "column_names1 = ['user id','movie id','rating','timestamp']\n",
    "ratings_dataset = pd.read_csv('ml-100k/u.data', sep='\\t',header=None,names=column_names1)\n",
    "ratings_dataset[\"movie id\"] = ratings_dataset[\"movie id\"] - 1\n",
    "ratings_dataset.head() "
   ]
  },
  {
   "cell_type": "code",
   "execution_count": 4,
   "metadata": {},
   "outputs": [],
   "source": [
    "ratings_dataset = pd.merge(ratings_dataset, users, how=\"left\", on=\"user id\")"
   ]
  },
  {
   "cell_type": "code",
   "execution_count": 5,
   "metadata": {
    "colab": {
     "base_uri": "https://localhost:8080/",
     "height": 366
    },
    "id": "fZKhPm9dRqvR",
    "outputId": "44f3ae94-9e6d-4da4-d9d0-1596f6de2699"
   },
   "outputs": [
    {
     "data": {
      "text/html": [
       "<div>\n",
       "<style scoped>\n",
       "    .dataframe tbody tr th:only-of-type {\n",
       "        vertical-align: middle;\n",
       "    }\n",
       "\n",
       "    .dataframe tbody tr th {\n",
       "        vertical-align: top;\n",
       "    }\n",
       "\n",
       "    .dataframe thead th {\n",
       "        text-align: right;\n",
       "    }\n",
       "</style>\n",
       "<table border=\"1\" class=\"dataframe\">\n",
       "  <thead>\n",
       "    <tr style=\"text-align: right;\">\n",
       "      <th></th>\n",
       "      <th>movie id</th>\n",
       "      <th>movie title</th>\n",
       "      <th>release date</th>\n",
       "      <th>video release date</th>\n",
       "      <th>IMDb URL</th>\n",
       "      <th>unknown</th>\n",
       "      <th>Action</th>\n",
       "      <th>Adventure</th>\n",
       "      <th>Animation</th>\n",
       "      <th>Children</th>\n",
       "      <th>...</th>\n",
       "      <th>Fantasy</th>\n",
       "      <th>Film-Noir</th>\n",
       "      <th>Horror</th>\n",
       "      <th>Musical</th>\n",
       "      <th>Mystery</th>\n",
       "      <th>Romance</th>\n",
       "      <th>Sci-Fi</th>\n",
       "      <th>Thriller</th>\n",
       "      <th>War</th>\n",
       "      <th>Western</th>\n",
       "    </tr>\n",
       "  </thead>\n",
       "  <tbody>\n",
       "    <tr>\n",
       "      <th>0</th>\n",
       "      <td>0</td>\n",
       "      <td>Toy Story (1995)</td>\n",
       "      <td>01-Jan-1995</td>\n",
       "      <td>NaN</td>\n",
       "      <td>http://us.imdb.com/M/title-exact?Toy%20Story%2...</td>\n",
       "      <td>0</td>\n",
       "      <td>0</td>\n",
       "      <td>0</td>\n",
       "      <td>1</td>\n",
       "      <td>1</td>\n",
       "      <td>...</td>\n",
       "      <td>0</td>\n",
       "      <td>0</td>\n",
       "      <td>0</td>\n",
       "      <td>0</td>\n",
       "      <td>0</td>\n",
       "      <td>0</td>\n",
       "      <td>0</td>\n",
       "      <td>0</td>\n",
       "      <td>0</td>\n",
       "      <td>0</td>\n",
       "    </tr>\n",
       "    <tr>\n",
       "      <th>1</th>\n",
       "      <td>1</td>\n",
       "      <td>GoldenEye (1995)</td>\n",
       "      <td>01-Jan-1995</td>\n",
       "      <td>NaN</td>\n",
       "      <td>http://us.imdb.com/M/title-exact?GoldenEye%20(...</td>\n",
       "      <td>0</td>\n",
       "      <td>1</td>\n",
       "      <td>1</td>\n",
       "      <td>0</td>\n",
       "      <td>0</td>\n",
       "      <td>...</td>\n",
       "      <td>0</td>\n",
       "      <td>0</td>\n",
       "      <td>0</td>\n",
       "      <td>0</td>\n",
       "      <td>0</td>\n",
       "      <td>0</td>\n",
       "      <td>0</td>\n",
       "      <td>1</td>\n",
       "      <td>0</td>\n",
       "      <td>0</td>\n",
       "    </tr>\n",
       "    <tr>\n",
       "      <th>2</th>\n",
       "      <td>2</td>\n",
       "      <td>Four Rooms (1995)</td>\n",
       "      <td>01-Jan-1995</td>\n",
       "      <td>NaN</td>\n",
       "      <td>http://us.imdb.com/M/title-exact?Four%20Rooms%...</td>\n",
       "      <td>0</td>\n",
       "      <td>0</td>\n",
       "      <td>0</td>\n",
       "      <td>0</td>\n",
       "      <td>0</td>\n",
       "      <td>...</td>\n",
       "      <td>0</td>\n",
       "      <td>0</td>\n",
       "      <td>0</td>\n",
       "      <td>0</td>\n",
       "      <td>0</td>\n",
       "      <td>0</td>\n",
       "      <td>0</td>\n",
       "      <td>1</td>\n",
       "      <td>0</td>\n",
       "      <td>0</td>\n",
       "    </tr>\n",
       "    <tr>\n",
       "      <th>3</th>\n",
       "      <td>3</td>\n",
       "      <td>Get Shorty (1995)</td>\n",
       "      <td>01-Jan-1995</td>\n",
       "      <td>NaN</td>\n",
       "      <td>http://us.imdb.com/M/title-exact?Get%20Shorty%...</td>\n",
       "      <td>0</td>\n",
       "      <td>1</td>\n",
       "      <td>0</td>\n",
       "      <td>0</td>\n",
       "      <td>0</td>\n",
       "      <td>...</td>\n",
       "      <td>0</td>\n",
       "      <td>0</td>\n",
       "      <td>0</td>\n",
       "      <td>0</td>\n",
       "      <td>0</td>\n",
       "      <td>0</td>\n",
       "      <td>0</td>\n",
       "      <td>0</td>\n",
       "      <td>0</td>\n",
       "      <td>0</td>\n",
       "    </tr>\n",
       "    <tr>\n",
       "      <th>4</th>\n",
       "      <td>4</td>\n",
       "      <td>Copycat (1995)</td>\n",
       "      <td>01-Jan-1995</td>\n",
       "      <td>NaN</td>\n",
       "      <td>http://us.imdb.com/M/title-exact?Copycat%20(1995)</td>\n",
       "      <td>0</td>\n",
       "      <td>0</td>\n",
       "      <td>0</td>\n",
       "      <td>0</td>\n",
       "      <td>0</td>\n",
       "      <td>...</td>\n",
       "      <td>0</td>\n",
       "      <td>0</td>\n",
       "      <td>0</td>\n",
       "      <td>0</td>\n",
       "      <td>0</td>\n",
       "      <td>0</td>\n",
       "      <td>0</td>\n",
       "      <td>1</td>\n",
       "      <td>0</td>\n",
       "      <td>0</td>\n",
       "    </tr>\n",
       "  </tbody>\n",
       "</table>\n",
       "<p>5 rows × 24 columns</p>\n",
       "</div>"
      ],
      "text/plain": [
       "   movie id        movie title release date  video release date  \\\n",
       "0         0   Toy Story (1995)  01-Jan-1995                 NaN   \n",
       "1         1   GoldenEye (1995)  01-Jan-1995                 NaN   \n",
       "2         2  Four Rooms (1995)  01-Jan-1995                 NaN   \n",
       "3         3  Get Shorty (1995)  01-Jan-1995                 NaN   \n",
       "4         4     Copycat (1995)  01-Jan-1995                 NaN   \n",
       "\n",
       "                                            IMDb URL  unknown  Action  \\\n",
       "0  http://us.imdb.com/M/title-exact?Toy%20Story%2...        0       0   \n",
       "1  http://us.imdb.com/M/title-exact?GoldenEye%20(...        0       1   \n",
       "2  http://us.imdb.com/M/title-exact?Four%20Rooms%...        0       0   \n",
       "3  http://us.imdb.com/M/title-exact?Get%20Shorty%...        0       1   \n",
       "4  http://us.imdb.com/M/title-exact?Copycat%20(1995)        0       0   \n",
       "\n",
       "   Adventure  Animation  Children  ...  Fantasy  Film-Noir  Horror  Musical  \\\n",
       "0          0          1         1  ...        0          0       0        0   \n",
       "1          1          0         0  ...        0          0       0        0   \n",
       "2          0          0         0  ...        0          0       0        0   \n",
       "3          0          0         0  ...        0          0       0        0   \n",
       "4          0          0         0  ...        0          0       0        0   \n",
       "\n",
       "   Mystery  Romance  Sci-Fi  Thriller  War  Western  \n",
       "0        0        0       0         0    0        0  \n",
       "1        0        0       0         1    0        0  \n",
       "2        0        0       0         1    0        0  \n",
       "3        0        0       0         0    0        0  \n",
       "4        0        0       0         1    0        0  \n",
       "\n",
       "[5 rows x 24 columns]"
      ]
     },
     "execution_count": 5,
     "metadata": {},
     "output_type": "execute_result"
    }
   ],
   "source": [
    "features = ['Action', 'Adventure', 'Animation', 'Children', 'Comedy', 'Crime', 'Documentary', 'Drama', 'Fantasy', 'Film-Noir', 'Horror', 'Musical', 'Mystery', 'Romance', 'Sci-Fi', 'Thriller', 'War', 'Western']\n",
    "column_names_str = 'movie id | movie title | release date | video release date | IMDb URL | unknown | Action | Adventure | Animation | Children | Comedy | Crime | Documentary | Drama | Fantasy | Film-Noir | Horror | Musical | Mystery | Romance | Sci-Fi | Thriller | War | Western'\n",
    "column_names2 = column_names_str.split(' | ')\n",
    "\n",
    "items_dataset = pd.read_csv('ml-100k/u.item', sep='|',header=None,names=column_names2,encoding='latin-1')\n",
    "items_dataset[\"movie id\"] = items_dataset[\"movie id\"] - 1\n",
    "items_dataset.head()"
   ]
  },
  {
   "cell_type": "code",
   "execution_count": 6,
   "metadata": {
    "colab": {
     "base_uri": "https://localhost:8080/",
     "height": 195
    },
    "id": "zjMViWz_SDlJ",
    "outputId": "3fa38eec-61c4-41c7-c363-cbcbaebee253"
   },
   "outputs": [
    {
     "data": {
      "text/html": [
       "<div>\n",
       "<style scoped>\n",
       "    .dataframe tbody tr th:only-of-type {\n",
       "        vertical-align: middle;\n",
       "    }\n",
       "\n",
       "    .dataframe tbody tr th {\n",
       "        vertical-align: top;\n",
       "    }\n",
       "\n",
       "    .dataframe thead th {\n",
       "        text-align: right;\n",
       "    }\n",
       "</style>\n",
       "<table border=\"1\" class=\"dataframe\">\n",
       "  <thead>\n",
       "    <tr style=\"text-align: right;\">\n",
       "      <th></th>\n",
       "      <th>movie id</th>\n",
       "      <th>movie title</th>\n",
       "    </tr>\n",
       "  </thead>\n",
       "  <tbody>\n",
       "    <tr>\n",
       "      <th>0</th>\n",
       "      <td>0</td>\n",
       "      <td>Toy Story (1995)</td>\n",
       "    </tr>\n",
       "    <tr>\n",
       "      <th>1</th>\n",
       "      <td>1</td>\n",
       "      <td>GoldenEye (1995)</td>\n",
       "    </tr>\n",
       "    <tr>\n",
       "      <th>2</th>\n",
       "      <td>2</td>\n",
       "      <td>Four Rooms (1995)</td>\n",
       "    </tr>\n",
       "    <tr>\n",
       "      <th>3</th>\n",
       "      <td>3</td>\n",
       "      <td>Get Shorty (1995)</td>\n",
       "    </tr>\n",
       "    <tr>\n",
       "      <th>4</th>\n",
       "      <td>4</td>\n",
       "      <td>Copycat (1995)</td>\n",
       "    </tr>\n",
       "  </tbody>\n",
       "</table>\n",
       "</div>"
      ],
      "text/plain": [
       "   movie id        movie title\n",
       "0         0   Toy Story (1995)\n",
       "1         1   GoldenEye (1995)\n",
       "2         2  Four Rooms (1995)\n",
       "3         3  Get Shorty (1995)\n",
       "4         4     Copycat (1995)"
      ]
     },
     "execution_count": 6,
     "metadata": {},
     "output_type": "execute_result"
    }
   ],
   "source": [
    "movie_dataset = items_dataset[['movie id','movie title']]\n",
    "movie_dataset.head()"
   ]
  },
  {
   "cell_type": "code",
   "execution_count": 7,
   "metadata": {
    "colab": {
     "base_uri": "https://localhost:8080/",
     "height": 195
    },
    "id": "IBOXHTmvS6Ex",
    "outputId": "c9995cf4-c7fd-47b0-afb7-c57b7fce007c"
   },
   "outputs": [
    {
     "data": {
      "text/html": [
       "<div>\n",
       "<style scoped>\n",
       "    .dataframe tbody tr th:only-of-type {\n",
       "        vertical-align: middle;\n",
       "    }\n",
       "\n",
       "    .dataframe tbody tr th {\n",
       "        vertical-align: top;\n",
       "    }\n",
       "\n",
       "    .dataframe thead th {\n",
       "        text-align: right;\n",
       "    }\n",
       "</style>\n",
       "<table border=\"1\" class=\"dataframe\">\n",
       "  <thead>\n",
       "    <tr style=\"text-align: right;\">\n",
       "      <th></th>\n",
       "      <th>user id</th>\n",
       "      <th>movie id</th>\n",
       "      <th>rating</th>\n",
       "      <th>timestamp</th>\n",
       "      <th>age</th>\n",
       "      <th>sex</th>\n",
       "      <th>occupation</th>\n",
       "      <th>zip_code</th>\n",
       "      <th>movie title</th>\n",
       "    </tr>\n",
       "  </thead>\n",
       "  <tbody>\n",
       "    <tr>\n",
       "      <th>0</th>\n",
       "      <td>196</td>\n",
       "      <td>241</td>\n",
       "      <td>3</td>\n",
       "      <td>881250949</td>\n",
       "      <td>49</td>\n",
       "      <td>M</td>\n",
       "      <td>writer</td>\n",
       "      <td>55105</td>\n",
       "      <td>Kolya (1996)</td>\n",
       "    </tr>\n",
       "    <tr>\n",
       "      <th>1</th>\n",
       "      <td>63</td>\n",
       "      <td>241</td>\n",
       "      <td>3</td>\n",
       "      <td>875747190</td>\n",
       "      <td>31</td>\n",
       "      <td>M</td>\n",
       "      <td>marketing</td>\n",
       "      <td>75240</td>\n",
       "      <td>Kolya (1996)</td>\n",
       "    </tr>\n",
       "    <tr>\n",
       "      <th>2</th>\n",
       "      <td>226</td>\n",
       "      <td>241</td>\n",
       "      <td>5</td>\n",
       "      <td>883888671</td>\n",
       "      <td>28</td>\n",
       "      <td>M</td>\n",
       "      <td>student</td>\n",
       "      <td>92103</td>\n",
       "      <td>Kolya (1996)</td>\n",
       "    </tr>\n",
       "    <tr>\n",
       "      <th>3</th>\n",
       "      <td>154</td>\n",
       "      <td>241</td>\n",
       "      <td>3</td>\n",
       "      <td>879138235</td>\n",
       "      <td>25</td>\n",
       "      <td>M</td>\n",
       "      <td>student</td>\n",
       "      <td>53703</td>\n",
       "      <td>Kolya (1996)</td>\n",
       "    </tr>\n",
       "    <tr>\n",
       "      <th>4</th>\n",
       "      <td>306</td>\n",
       "      <td>241</td>\n",
       "      <td>5</td>\n",
       "      <td>876503793</td>\n",
       "      <td>45</td>\n",
       "      <td>M</td>\n",
       "      <td>other</td>\n",
       "      <td>73132</td>\n",
       "      <td>Kolya (1996)</td>\n",
       "    </tr>\n",
       "  </tbody>\n",
       "</table>\n",
       "</div>"
      ],
      "text/plain": [
       "   user id  movie id  rating  timestamp  age sex occupation zip_code  \\\n",
       "0      196       241       3  881250949   49   M     writer    55105   \n",
       "1       63       241       3  875747190   31   M  marketing    75240   \n",
       "2      226       241       5  883888671   28   M    student    92103   \n",
       "3      154       241       3  879138235   25   M    student    53703   \n",
       "4      306       241       5  876503793   45   M      other    73132   \n",
       "\n",
       "    movie title  \n",
       "0  Kolya (1996)  \n",
       "1  Kolya (1996)  \n",
       "2  Kolya (1996)  \n",
       "3  Kolya (1996)  \n",
       "4  Kolya (1996)  "
      ]
     },
     "execution_count": 7,
     "metadata": {},
     "output_type": "execute_result"
    }
   ],
   "source": [
    "merged_dataset = pd.merge(ratings_dataset, movie_dataset, how='inner', on='movie id')\n",
    "merged_dataset.head()"
   ]
  },
  {
   "cell_type": "code",
   "execution_count": 8,
   "metadata": {},
   "outputs": [
    {
     "data": {
      "text/plain": [
       "<AxesSubplot: >"
      ]
     },
     "execution_count": 8,
     "metadata": {},
     "output_type": "execute_result"
    },
    {
     "data": {
      "image/png": "[encoded data removed]",
      "text/plain": [
       "<Figure size 640x480 with 1 Axes>"
      ]
     },
     "metadata": {},
     "output_type": "display_data"
    }
   ],
   "source": [
    "merged_dataset.age.hist()"
   ]
  },
  {
   "cell_type": "code",
   "execution_count": 9,
   "metadata": {},
   "outputs": [
    {
     "data": {
      "text/plain": [
       "((100000, 9),\n",
       " Index(['user id', 'movie id', 'rating', 'timestamp', 'age', 'sex',\n",
       "        'occupation', 'zip_code', 'movie title'],\n",
       "       dtype='object'))"
      ]
     },
     "execution_count": 9,
     "metadata": {},
     "output_type": "execute_result"
    }
   ],
   "source": [
    "merged_dataset.shape, merged_dataset.keys()"
   ]
  },
  {
   "cell_type": "code",
   "execution_count": 10,
   "metadata": {
    "id": "-X1Fvj3AUTjt"
   },
   "outputs": [],
   "source": [
    "user_enc = LabelEncoder()\n",
    "merged_dataset['user'] = user_enc.fit_transform(merged_dataset['user id'].values)\n",
    "n_users = merged_dataset['user'].nunique()"
   ]
  },
  {
   "cell_type": "code",
   "execution_count": 11,
   "metadata": {
    "id": "3f2vtjifW662"
   },
   "outputs": [],
   "source": [
    "item_enc = LabelEncoder()\n",
    "merged_dataset['movie'] = item_enc.fit_transform(merged_dataset['movie title'].values)\n",
    "n_movies = merged_dataset['movie'].nunique()"
   ]
  },
  {
   "cell_type": "code",
   "execution_count": 12,
   "metadata": {},
   "outputs": [],
   "source": [
    "occupation_enc = LabelEncoder()\n",
    "merged_dataset['occupation'] = occupation_enc.fit_transform(merged_dataset['occupation'].values)"
   ]
  },
  {
   "cell_type": "code",
   "execution_count": 13,
   "metadata": {},
   "outputs": [],
   "source": [
    "sex_enc = LabelEncoder()\n",
    "merged_dataset['sex'] = sex_enc.fit_transform(merged_dataset['sex'].values)"
   ]
  },
  {
   "cell_type": "code",
   "execution_count": 14,
   "metadata": {},
   "outputs": [],
   "source": [
    "zip_code = LabelEncoder()\n",
    "merged_dataset['zip_code'] = zip_code.fit_transform(merged_dataset['zip_code'].values)"
   ]
  },
  {
   "cell_type": "code",
   "execution_count": 15,
   "metadata": {
    "colab": {
     "base_uri": "https://localhost:8080/"
    },
    "id": "OeQb6BDbXUzI",
    "outputId": "9db3aaae-b877-4ce0-8e39-726b3de57384"
   },
   "outputs": [
    {
     "data": {
      "text/plain": [
       "(943, 1664, 7, 73)"
      ]
     },
     "execution_count": 15,
     "metadata": {},
     "output_type": "execute_result"
    }
   ],
   "source": [
    "merged_dataset['rating'] = merged_dataset['rating'].values.astype(np.float32)\n",
    "min_age = min(merged_dataset['age'])\n",
    "max_age = max(merged_dataset['age'])\n",
    "n_users, n_movies, min_age, max_age"
   ]
  },
  {
   "cell_type": "code",
   "execution_count": 16,
   "metadata": {},
   "outputs": [],
   "source": [
    "merged_dataset['age'] = (merged_dataset['age'] - min_age)/(max_age - min_age)"
   ]
  },
  {
   "cell_type": "code",
   "execution_count": 17,
   "metadata": {},
   "outputs": [],
   "source": [
    "merged_dataset = merged_dataset.sort_values(\"timestamp\").reset_index(drop=True)"
   ]
  },
  {
   "cell_type": "markdown",
   "metadata": {},
   "source": [
    "### Dataset Timestamps"
   ]
  },
  {
   "cell_type": "code",
   "execution_count": 18,
   "metadata": {},
   "outputs": [
    {
     "data": {
      "text/plain": [
       "[<matplotlib.lines.Line2D at 0x149b68ee380>]"
      ]
     },
     "execution_count": 18,
     "metadata": {},
     "output_type": "execute_result"
    },
    {
     "data": {
      "image/png": "[encoded data removed]",
      "text/plain": [
       "<Figure size 640x480 with 1 Axes>"
      ]
     },
     "metadata": {},
     "output_type": "display_data"
    }
   ],
   "source": [
    "plt.plot(merged_dataset.timestamp.values)"
   ]
  },
  {
   "cell_type": "markdown",
   "metadata": {},
   "source": [
    "### Build Dataset with window of 21 (20 movies as a start sequence and predict on the 21)"
   ]
  },
  {
   "cell_type": "code",
   "execution_count": 19,
   "metadata": {},
   "outputs": [
    {
     "name": "stderr",
     "output_type": "stream",
     "text": [
      "100%|████████████████████████████████████████████████████████████████████████████████| 943/943 [03:34<00:00,  4.39it/s]\n"
     ]
    }
   ],
   "source": [
    "size = 500000\n",
    "window_size = 21\n",
    "X, y, ts, user_ids = [], [], [], []\n",
    "for user_id, df in tqdm(merged_dataset.groupby(\"user\")):\n",
    "    for x in df.rolling(window_size):\n",
    "        if x.shape[0] < window_size:\n",
    "            continue\n",
    "        movies_indices = x.iloc[:-1][\"movie\"].values.astype(int) # First window videos\n",
    "        genres_mean = items_dataset[items_dataset[\"movie title\"].isin(x.iloc[:-1][\"movie title\"])][features].mean(axis=0).values\n",
    "        user_context = (x.iloc[0]['sex'].astype(int), x.iloc[0]['age'], x.iloc[0]['occupation'].astype(int), x.iloc[0]['zip_code'].astype(int))\n",
    "        X.append([movies_indices, user_context, genres_mean]) \n",
    "        y.append(x.iloc[-1][\"movie\"]) # Next movie in window\n",
    "        ts.append(x.iloc[-1][\"timestamp\"])\n",
    "        user_ids.append(x.iloc[0]['user id'])\n",
    "    if len(X) > size:\n",
    "        break"
   ]
  },
  {
   "cell_type": "markdown",
   "metadata": {},
   "source": [
    "### Split to train and test (20% - test)"
   ]
  },
  {
   "cell_type": "code",
   "execution_count": 20,
   "metadata": {},
   "outputs": [
    {
     "data": {
      "text/plain": [
       "64912"
      ]
     },
     "execution_count": 20,
     "metadata": {},
     "output_type": "execute_result"
    }
   ],
   "source": [
    "cut_idx = int(len(ts)*0.8)\n",
    "cut_idx"
   ]
  },
  {
   "cell_type": "code",
   "execution_count": 21,
   "metadata": {},
   "outputs": [],
   "source": [
    "indices = np.arange(len(X))\n",
    "train_indices = indices[:cut_idx]\n",
    "test_indices = indices[cut_idx:]"
   ]
  },
  {
   "cell_type": "code",
   "execution_count": 22,
   "metadata": {},
   "outputs": [],
   "source": [
    "x1 = np.stack(np.asarray(X, dtype=object)[:, 0])\n",
    "x2 = np.stack(np.asarray(X, dtype=object)[:, 1])\n",
    "x3 = np.stack(np.asarray(X, dtype=object)[:, 2])\n",
    "y =  np.asarray(y)"
   ]
  },
  {
   "cell_type": "code",
   "execution_count": 23,
   "metadata": {},
   "outputs": [],
   "source": [
    "X_train = [x1[train_indices], x2[train_indices], x3[train_indices]]\n",
    "y_train = y[train_indices]\n",
    "\n",
    "X_test = [x1[test_indices], x2[test_indices], x3[test_indices]]\n",
    "y_test = y[test_indices]"
   ]
  },
  {
   "cell_type": "code",
   "execution_count": 24,
   "metadata": {},
   "outputs": [
    {
     "data": {
      "text/plain": [
       "(64912, 20)"
      ]
     },
     "execution_count": 24,
     "metadata": {},
     "output_type": "execute_result"
    }
   ],
   "source": [
    "X_train[0].shape"
   ]
  },
  {
   "cell_type": "code",
   "execution_count": 25,
   "metadata": {},
   "outputs": [],
   "source": [
    "df = pd.DataFrame(user_ids, columns=[\"user_idx\"])"
   ]
  },
  {
   "cell_type": "code",
   "execution_count": 26,
   "metadata": {},
   "outputs": [],
   "source": [
    "df.loc[:cut_idx, \"label\"] = \"red\"\n",
    "df.loc[cut_idx:, \"label\"] = \"blue\""
   ]
  },
  {
   "cell_type": "markdown",
   "metadata": {},
   "source": [
    "#### Train test split by the users RED=Train, BLUE=TEST"
   ]
  },
  {
   "cell_type": "code",
   "execution_count": 27,
   "metadata": {},
   "outputs": [
    {
     "data": {
      "text/plain": [
       "<AxesSubplot: xlabel='user_idx', ylabel='user_idx'>"
      ]
     },
     "execution_count": 27,
     "metadata": {},
     "output_type": "execute_result"
    },
    {
     "data": {
      "image/png": "[encoded data removed]",
      "text/plain": [
       "<Figure size 640x480 with 1 Axes>"
      ]
     },
     "metadata": {},
     "output_type": "display_data"
    }
   ],
   "source": [
    "df.plot.scatter(x=\"user_idx\", y=\"user_idx\", c=\"label\")"
   ]
  },
  {
   "cell_type": "markdown",
   "metadata": {
    "id": "C_sQMkI-m-i-"
   },
   "source": [
    "## Building a Deep Neural Network Youtube REcommender System"
   ]
  },
  {
   "cell_type": "code",
   "execution_count": 91,
   "metadata": {
    "id": "PRBTogiuhpmV"
   },
   "outputs": [],
   "source": [
    "def make_paper_model(embedding_size, scale_factor):\n",
    "    \n",
    "    user_context = tf.keras.layers.Input(shape = (4,))\n",
    "    movies_window = tf.keras.layers.Input(shape = (window_size-1,))\n",
    "    genres = tf.keras.layers.Input(shape = (18,))\n",
    "    inputs = [movies_window, user_context, genres]\n",
    "    \n",
    "    u = tf.keras.layers.Dense(64)(inputs[1])\n",
    "        \n",
    "    m = Embedding(n_movies, embedding_size)(inputs[0])\n",
    "    m = tf.reduce_mean(m, axis=1)\n",
    "    \n",
    "    m = tf.keras.layers.Reshape((embedding_size,))(m)\n",
    "    \n",
    "    x = tf.keras.layers.Concatenate()([u, m])\n",
    "    x = tf.keras.layers.Dense(1024*scale_factor)(x)\n",
    "    x = tf.keras.layers.Activation(activation='relu')(x)\n",
    "    x = tf.keras.layers.Dropout(0.2)(x)\n",
    "\n",
    "    x = tf.keras.layers.Dense(512*scale_factor)(x)\n",
    "    x = tf.keras.layers.Activation(activation='relu')(x)\n",
    "    x = tf.keras.layers.Dropout(0.2)(x)\n",
    "    \n",
    "    x = tf.keras.layers.Dense(256*scale_factor)(x)\n",
    "    x = tf.keras.layers.Activation(activation='relu')(x)\n",
    "    x = tf.keras.layers.Dropout(0.2)(x)\n",
    "    \n",
    "    outputs = tf.keras.layers.Dense(n_movies, activation=\"softmax\")(x)\n",
    "    return keras.Model(inputs=inputs, outputs=outputs), \"paper_model\"\n",
    "\n",
    "\n",
    "# model, _ = make_paper_model(150, scale_factor=2)\n",
    "# model.compile(optimizer='sgd', loss=tf.keras.losses.SparseCategoricalCrossentropy(from_logits=True), metrics=['accuracy'])"
   ]
  },
  {
   "cell_type": "code",
   "execution_count": 99,
   "metadata": {},
   "outputs": [],
   "source": [
    "def make_imporved_model(embedding_size, scale_factor):\n",
    "    \n",
    "    user_context = tf.keras.layers.Input(shape = (4,))\n",
    "    movies_window = tf.keras.layers.Input(shape = (window_size-1,))\n",
    "    genres = tf.keras.layers.Input(shape = (18,))\n",
    "    inputs = [movies_window, user_context, genres]\n",
    "    \n",
    "    u = tf.keras.layers.Dense(int(16*scale_factor))(user_context)\n",
    "    v = tf.keras.layers.Dense(int(16*scale_factor))(genres)\n",
    "\n",
    "    m = Embedding(n_movies, embedding_size)(inputs[0])\n",
    "    m = tf.reduce_mean(m, axis=1)\n",
    "    \n",
    "    x = tf.keras.layers.Concatenate()([u, v, movies_window])\n",
    "    x = tf.einsum('ki,kj->kij',x,x)\n",
    "    x = tf.expand_dims(x, -1)\n",
    "\n",
    "    x = tf.keras.layers.Conv2D(filters=int(16*scale_factor), kernel_size=(3,3), activation=\"relu\")(x)\n",
    "    x = tf.keras.layers.MaxPool2D((2,2))(x)\n",
    "    x = tf.keras.layers.Conv2D(filters=int(32*scale_factor), kernel_size=(3,3), activation=\"relu\")(x)\n",
    "    x = tf.keras.layers.MaxPool2D((2,2))(x)\n",
    "    \n",
    "    x = tf.keras.layers.Flatten()(x)\n",
    "    x = tf.keras.layers.Concatenate()([m, x]) \n",
    "    \n",
    "    x = tf.keras.layers.Dense(int(64*scale_factor), activation=\"relu\")(x)\n",
    "    x = tf.keras.layers.Dense(int(128*scale_factor), activation=\"relu\")(x)\n",
    "    x = tf.keras.layers.Dense(int(256*scale_factor), activation=\"relu\")(x)\n",
    "    outputs = tf.keras.layers.Dense(n_movies, activation=\"softmax\")(x)\n",
    "    return keras.Model(inputs=inputs, outputs=outputs), \"improved_model\"\n",
    "\n",
    "# model, _ = make_imporved_model(150, scale_factor=1)\n",
    "# model.compile(optimizer='sgd', loss=tf.keras.losses.SparseCategoricalCrossentropy(from_logits=True), metrics=['accuracy'])"
   ]
  },
  {
   "cell_type": "markdown",
   "metadata": {},
   "source": [
    "#### Grid search:"
   ]
  },
  {
   "cell_type": "code",
   "execution_count": 30,
   "metadata": {},
   "outputs": [],
   "source": [
    "import functools\n",
    "top5_acc = functools.partial(keras.metrics.sparse_top_k_categorical_accuracy, k=5)\n",
    "top5_acc.__name__ = 'top5_acc'\n",
    "top10_acc = functools.partial(keras.metrics.sparse_top_k_categorical_accuracy, k=10)\n",
    "top10_acc.__name__ = 'top10_acc'"
   ]
  },
  {
   "cell_type": "markdown",
   "metadata": {},
   "source": [
    "### Train or not to Train?"
   ]
  },
  {
   "cell_type": "code",
   "execution_count": 31,
   "metadata": {},
   "outputs": [],
   "source": [
    "train = True"
   ]
  },
  {
   "cell_type": "markdown",
   "metadata": {},
   "source": [
    "#### Grid search parameters"
   ]
  },
  {
   "cell_type": "code",
   "execution_count": 32,
   "metadata": {},
   "outputs": [],
   "source": [
    "optimizers = [lambda: tf.keras.optimizers.Adam(learning_rate=0.01),\n",
    "              lambda: tf.keras.optimizers.Adam(learning_rate=0.001),\n",
    "              lambda: tf.keras.optimizers.SGD()]\n",
    "losses = [lambda: tf.keras.losses.SparseCategoricalCrossentropy()]\n",
    "embeddings_sizes = [16, 32, 64, 128]\n",
    "scale_factors = [0.5, 1, 2, 4, 8]"
   ]
  },
  {
   "cell_type": "code",
   "execution_count": 89,
   "metadata": {},
   "outputs": [
    {
     "name": "stdout",
     "output_type": "stream",
     "text": [
      "Epoch 1/20\n",
      "508/508 [==============================] - 21s 38ms/step - loss: 7.0766 - top5_acc: 0.0138 - top10_acc: 0.0273 - val_loss: 6.7377 - val_top5_acc: 0.0179 - val_top10_acc: 0.0360\n",
      "Epoch 2/20\n",
      "508/508 [==============================] - 18s 36ms/step - loss: 6.7463 - top5_acc: 0.0172 - top10_acc: 0.0335 - val_loss: 6.6415 - val_top5_acc: 0.0209 - val_top10_acc: 0.0418\n",
      "Epoch 3/20\n",
      "508/508 [==============================] - 18s 36ms/step - loss: 6.6729 - top5_acc: 0.0219 - top10_acc: 0.0415 - val_loss: 6.5622 - val_top5_acc: 0.0270 - val_top10_acc: 0.0516\n",
      "Epoch 4/20\n",
      "508/508 [==============================] - 17s 34ms/step - loss: 6.5753 - top5_acc: 0.0265 - top10_acc: 0.0507 - val_loss: 6.4919 - val_top5_acc: 0.0317 - val_top10_acc: 0.0596\n",
      "Epoch 5/20\n",
      "508/508 [==============================] - 18s 35ms/step - loss: 6.5184 - top5_acc: 0.0290 - top10_acc: 0.0550 - val_loss: 6.4527 - val_top5_acc: 0.0302 - val_top10_acc: 0.0590\n",
      "Epoch 6/20\n",
      "508/508 [==============================] - 17s 34ms/step - loss: 6.4819 - top5_acc: 0.0287 - top10_acc: 0.0558 - val_loss: 6.4500 - val_top5_acc: 0.0320 - val_top10_acc: 0.0610\n",
      "Epoch 7/20\n",
      "508/508 [==============================] - 17s 34ms/step - loss: 6.4553 - top5_acc: 0.0288 - top10_acc: 0.0558 - val_loss: 6.4503 - val_top5_acc: 0.0322 - val_top10_acc: 0.0611\n",
      "Epoch 8/20\n",
      "508/508 [==============================] - 17s 34ms/step - loss: 6.4202 - top5_acc: 0.0299 - top10_acc: 0.0571 - val_loss: 6.4333 - val_top5_acc: 0.0334 - val_top10_acc: 0.0635\n",
      "Epoch 9/20\n",
      "508/508 [==============================] - 17s 34ms/step - loss: 6.3806 - top5_acc: 0.0311 - top10_acc: 0.0595 - val_loss: 6.3764 - val_top5_acc: 0.0340 - val_top10_acc: 0.0646\n",
      "Epoch 10/20\n",
      "508/508 [==============================] - 18s 35ms/step - loss: 6.3487 - top5_acc: 0.0313 - top10_acc: 0.0607 - val_loss: 6.3631 - val_top5_acc: 0.0342 - val_top10_acc: 0.0636\n",
      "Epoch 11/20\n",
      "508/508 [==============================] - 17s 34ms/step - loss: 6.3252 - top5_acc: 0.0331 - top10_acc: 0.0626 - val_loss: 6.3773 - val_top5_acc: 0.0372 - val_top10_acc: 0.0682\n",
      "Epoch 12/20\n",
      "508/508 [==============================] - 18s 35ms/step - loss: 6.3032 - top5_acc: 0.0337 - top10_acc: 0.0643 - val_loss: 6.3388 - val_top5_acc: 0.0355 - val_top10_acc: 0.0684\n",
      "Epoch 13/20\n",
      "508/508 [==============================] - 17s 34ms/step - loss: 6.2746 - top5_acc: 0.0354 - top10_acc: 0.0668 - val_loss: 6.3213 - val_top5_acc: 0.0368 - val_top10_acc: 0.0694\n",
      "Epoch 14/20\n",
      "508/508 [==============================] - 17s 34ms/step - loss: 6.2503 - top5_acc: 0.0354 - top10_acc: 0.0677 - val_loss: 6.3020 - val_top5_acc: 0.0378 - val_top10_acc: 0.0701\n",
      "Epoch 15/20\n",
      "508/508 [==============================] - 18s 34ms/step - loss: 6.2237 - top5_acc: 0.0375 - top10_acc: 0.0715 - val_loss: 6.2819 - val_top5_acc: 0.0380 - val_top10_acc: 0.0722\n",
      "Epoch 16/20\n",
      "508/508 [==============================] - 19s 37ms/step - loss: 6.2031 - top5_acc: 0.0379 - top10_acc: 0.0719 - val_loss: 6.2932 - val_top5_acc: 0.0402 - val_top10_acc: 0.0754\n",
      "Epoch 17/20\n",
      "508/508 [==============================] - 17s 34ms/step - loss: 6.1855 - top5_acc: 0.0392 - top10_acc: 0.0738 - val_loss: 6.2735 - val_top5_acc: 0.0402 - val_top10_acc: 0.0755\n",
      "Epoch 18/20\n",
      "508/508 [==============================] - 17s 34ms/step - loss: 6.1706 - top5_acc: 0.0387 - top10_acc: 0.0742 - val_loss: 6.2604 - val_top5_acc: 0.0410 - val_top10_acc: 0.0780\n",
      "Epoch 19/20\n",
      "508/508 [==============================] - 17s 34ms/step - loss: 6.1584 - top5_acc: 0.0393 - top10_acc: 0.0750 - val_loss: 6.2768 - val_top5_acc: 0.0413 - val_top10_acc: 0.0779\n",
      "Epoch 20/20\n",
      "508/508 [==============================] - 18s 35ms/step - loss: 6.1399 - top5_acc: 0.0403 - top10_acc: 0.0781 - val_loss: 6.2533 - val_top5_acc: 0.0426 - val_top10_acc: 0.0788\n",
      "1 64 <keras.optimizers.optimizer_experimental.adam.Adam object at 0x00000149C9CB7FA0> <keras.losses.SparseCategoricalCrossentropy object at 0x00000149C9CE63E0>\n"
     ]
    },
    {
     "name": "stderr",
     "output_type": "stream",
     "text": [
      "C:\\Users\\harel\\AppData\\Local\\Temp\\ipykernel_8728\\1004284324.py:34: FutureWarning: The frame.append method is deprecated and will be removed from pandas in a future version. Use pandas.concat instead.\n",
      "  df = df.append(row, ignore_index=True)\n"
     ]
    },
    {
     "data": {
      "image/png": "[encoded data removed]",
      "text/plain": [
       "<Figure size 500x500 with 1 Axes>"
      ]
     },
     "metadata": {},
     "output_type": "display_data"
    }
   ],
   "source": [
    "optimizers = [lambda: tf.keras.optimizers.Adam(learning_rate=0.001)]\n",
    "losses = [lambda: tf.keras.losses.SparseCategoricalCrossentropy()]\n",
    "embeddings_sizes = [64]\n",
    "scale_factors = [1]\n",
    "\n",
    "histories = {}\n",
    "# df = pd.read_csv(\"paper_gs_1.csv\", index_col=0)\n",
    "\n",
    "for scale_factor in scale_factors:\n",
    "    for e_size in embeddings_sizes:\n",
    "        for optimizer_lambda in optimizers:\n",
    "            for loss_lambda in losses:\n",
    "                if not train:\n",
    "                    continue\n",
    "                model, _ = make_paper_model(e_size, scale_factor)\n",
    "                \n",
    "                optimizer= optimizer_lambda()\n",
    "                loss = loss_lambda()\n",
    "\n",
    "                model.compile(optimizer=optimizer, loss=loss, metrics=[top5_acc, top10_acc])\n",
    "                # reduce_lr = tf.keras.callbacks.ReduceLROnPlateau(monitor='val_loss', factor=0.75, patience=3, min_lr=0.000001, verbose=0)\n",
    "                history = model.fit(x=X_train, y=y_train, batch_size=128, epochs=20, verbose=1, validation_data=(X_test, y_test) ,shuffle=True) #,callbacks=[reduce_lr])\n",
    "\n",
    "                histories[(str(scale_factor), str(e_size), str(optimizer), str(loss))] = history\n",
    "\n",
    "                row = {\"embedding\": str(e_size),\n",
    "                       \"optimizer\": str(optimizer),\n",
    "                       \"loss_func\": str(loss),\n",
    "                       \"scale_factor\": scale_factor,\n",
    "                       \"optimizer_lr\": optimizer.get_config().get(\"learning_rate\")\n",
    "                      }\n",
    "                row.update({k:v[-1] for k, v in history.history.items()})\n",
    "\n",
    "                df = df.append(row, ignore_index=True)\n",
    "                # df.to_csv(\"paper_gs_1.csv\")\n",
    "                \n",
    "                print(scale_factor, e_size, optimizer, loss)\n",
    "                plt.figure(figsize=(5,5))\n",
    "                plt.plot(history.history[\"loss\"])\n",
    "                plt.plot(history.history[\"val_loss\"])\n",
    "                plt.title(\"model loss\")\n",
    "                plt.ylabel(\"loss\")\n",
    "                plt.xlabel(\"epoch\")\n",
    "                plt.legend([\"train\", \"test\"], loc=\"upper left\")\n",
    "                plt.show()\n",
    "# df.to_csv(\"paper_gs_1.csv\")"
   ]
  },
  {
   "cell_type": "code",
   "execution_count": 102,
   "metadata": {},
   "outputs": [
    {
     "name": "stdout",
     "output_type": "stream",
     "text": [
      "Epoch 1/7\n",
      "508/508 [==============================] - 86s 167ms/step - loss: 831.7107 - top5_acc: 0.0369 - top10_acc: 0.0627 - val_loss: 6.2836 - val_top5_acc: 0.0404 - val_top10_acc: 0.0741\n",
      "Epoch 2/7\n",
      "508/508 [==============================] - 99s 194ms/step - loss: 6.1684 - top5_acc: 0.0408 - top10_acc: 0.0783 - val_loss: 6.2227 - val_top5_acc: 0.0449 - val_top10_acc: 0.0813\n",
      "Epoch 3/7\n",
      "508/508 [==============================] - 81s 159ms/step - loss: 6.0549 - top5_acc: 0.0457 - top10_acc: 0.0859 - val_loss: 6.2218 - val_top5_acc: 0.0446 - val_top10_acc: 0.0813\n",
      "Epoch 4/7\n",
      "508/508 [==============================] - 77s 152ms/step - loss: 5.9868 - top5_acc: 0.0497 - top10_acc: 0.0926 - val_loss: 6.2176 - val_top5_acc: 0.0450 - val_top10_acc: 0.0844\n",
      "Epoch 5/7\n",
      "508/508 [==============================] - 77s 152ms/step - loss: 5.9340 - top5_acc: 0.0527 - top10_acc: 0.0970 - val_loss: 6.2631 - val_top5_acc: 0.0478 - val_top10_acc: 0.0882\n",
      "Epoch 6/7\n",
      "508/508 [==============================] - 81s 159ms/step - loss: 5.8904 - top5_acc: 0.0536 - top10_acc: 0.1011 - val_loss: 6.2430 - val_top5_acc: 0.0455 - val_top10_acc: 0.0876\n",
      "Epoch 7/7\n",
      "508/508 [==============================] - 85s 168ms/step - loss: 5.8460 - top5_acc: 0.0575 - top10_acc: 0.1058 - val_loss: 6.3111 - val_top5_acc: 0.0466 - val_top10_acc: 0.0845\n",
      "1 128 <keras.optimizers.optimizer_experimental.adam.Adam object at 0x00000149E151DED0> <keras.losses.SparseCategoricalCrossentropy object at 0x00000149E151E2C0>\n"
     ]
    },
    {
     "name": "stderr",
     "output_type": "stream",
     "text": [
      "C:\\Users\\harel\\AppData\\Local\\Temp\\ipykernel_8728\\1697666195.py:35: FutureWarning: The frame.append method is deprecated and will be removed from pandas in a future version. Use pandas.concat instead.\n",
      "  df = df.append(row, ignore_index=True)\n"
     ]
    },
    {
     "data": {
      "image/png": "[encoded data removed]",
      "text/plain": [
       "<Figure size 500x500 with 1 Axes>"
      ]
     },
     "metadata": {},
     "output_type": "display_data"
    }
   ],
   "source": [
    "optimizers = [lambda: tf.keras.optimizers.Adam(learning_rate=0.01)]\n",
    "losses = [lambda: tf.keras.losses.SparseCategoricalCrossentropy()]\n",
    "embeddings_sizes = [128]\n",
    "scale_factors = [1]\n",
    "\n",
    "\n",
    "histories = {}\n",
    "df = pd.read_csv(\"improved_gs_1.csv\", index_col=0)\n",
    "\n",
    "for scale_factor in scale_factors:\n",
    "    for e_size in embeddings_sizes:\n",
    "        for optimizer_lambda in optimizers:\n",
    "            for loss_lambda in losses:\n",
    "                if not train:\n",
    "                    continue\n",
    "                model, _ = make_imporved_model(e_size, scale_factor)\n",
    "                \n",
    "                optimizer= optimizer_lambda()\n",
    "                loss = loss_lambda()\n",
    "\n",
    "                model.compile(optimizer=optimizer, loss=loss, metrics=[top5_acc, top10_acc])\n",
    "                # reduce_lr = tf.keras.callbacks.ReduceLROnPlateau(monitor='val_loss', factor=0.75, patience=3, min_lr=0.000001, verbose=0)\n",
    "                history = model.fit(x=X_train, y=y_train, batch_size=128, epochs=7, verbose=1, validation_data=(X_test, y_test) ,shuffle=True, ) #,callbacks=[reduce_lr])\n",
    "\n",
    "                histories[(str(scale_factor), str(e_size), str(optimizer), str(loss))] = history\n",
    "\n",
    "                row = {\"embedding\": str(e_size),\n",
    "                       \"optimizer\": str(optimizer),\n",
    "                       \"loss_func\": str(loss),\n",
    "                       \"scale_factor\": scale_factor,\n",
    "                       \"optimizer_lr\": optimizer.get_config().get(\"learning_rate\")\n",
    "                      }\n",
    "                row.update({k:v[-1] for k, v in history.history.items()})\n",
    "\n",
    "                df = df.append(row, ignore_index=True)\n",
    "                # df.to_csv(\"improved_gs_1.csv\")\n",
    "                print(scale_factor, e_size, optimizer, loss)\n",
    "                plt.figure(figsize=(5,5))\n",
    "                plt.plot(history.history[\"loss\"][1:])\n",
    "                plt.plot(history.history[\"val_loss\"][1:])\n",
    "                plt.title(\"model loss\")\n",
    "                plt.ylabel(\"loss\")\n",
    "                plt.xlabel(\"epoch\")\n",
    "                plt.legend([\"train\", \"test\"], loc=\"upper left\")\n",
    "                plt.show()\n",
    "# df.to_csv(\"improved_gs_1.csv\")"
   ]
  },
  {
   "cell_type": "markdown",
   "metadata": {
    "id": "2VpBSnCPILno"
   },
   "source": [
    "## Getting movies for given User"
   ]
  },
  {
   "cell_type": "code",
   "execution_count": 110,
   "metadata": {
    "colab": {
     "base_uri": "https://localhost:8080/",
     "height": 195
    },
    "id": "qRgSHldIJMLu",
    "outputId": "63f27ff6-1c88-4d8f-ddfa-18e84971bb58"
   },
   "outputs": [
    {
     "data": {
      "text/html": [
       "<div>\n",
       "<style scoped>\n",
       "    .dataframe tbody tr th:only-of-type {\n",
       "        vertical-align: middle;\n",
       "    }\n",
       "\n",
       "    .dataframe tbody tr th {\n",
       "        vertical-align: top;\n",
       "    }\n",
       "\n",
       "    .dataframe thead th {\n",
       "        text-align: right;\n",
       "    }\n",
       "</style>\n",
       "<table border=\"1\" class=\"dataframe\">\n",
       "  <thead>\n",
       "    <tr style=\"text-align: right;\">\n",
       "      <th></th>\n",
       "      <th>user id</th>\n",
       "      <th>movie id</th>\n",
       "      <th>rating</th>\n",
       "      <th>timestamp</th>\n",
       "      <th>age</th>\n",
       "      <th>sex</th>\n",
       "      <th>occupation</th>\n",
       "      <th>zip_code</th>\n",
       "      <th>movie title</th>\n",
       "      <th>user</th>\n",
       "      <th>movie</th>\n",
       "    </tr>\n",
       "  </thead>\n",
       "  <tbody>\n",
       "    <tr>\n",
       "      <th>0</th>\n",
       "      <td>259</td>\n",
       "      <td>254</td>\n",
       "      <td>4.0</td>\n",
       "      <td>874724710</td>\n",
       "      <td>0.212121</td>\n",
       "      <td>1</td>\n",
       "      <td>18</td>\n",
       "      <td>367</td>\n",
       "      <td>My Best Friend's Wedding (1997)</td>\n",
       "      <td>258</td>\n",
       "      <td>1025</td>\n",
       "    </tr>\n",
       "    <tr>\n",
       "      <th>1</th>\n",
       "      <td>259</td>\n",
       "      <td>285</td>\n",
       "      <td>4.0</td>\n",
       "      <td>874724727</td>\n",
       "      <td>0.212121</td>\n",
       "      <td>1</td>\n",
       "      <td>18</td>\n",
       "      <td>367</td>\n",
       "      <td>English Patient, The (1996)</td>\n",
       "      <td>258</td>\n",
       "      <td>460</td>\n",
       "    </tr>\n",
       "    <tr>\n",
       "      <th>2</th>\n",
       "      <td>259</td>\n",
       "      <td>297</td>\n",
       "      <td>4.0</td>\n",
       "      <td>874724754</td>\n",
       "      <td>0.212121</td>\n",
       "      <td>1</td>\n",
       "      <td>18</td>\n",
       "      <td>367</td>\n",
       "      <td>Face/Off (1997)</td>\n",
       "      <td>258</td>\n",
       "      <td>484</td>\n",
       "    </tr>\n",
       "    <tr>\n",
       "      <th>3</th>\n",
       "      <td>259</td>\n",
       "      <td>184</td>\n",
       "      <td>4.0</td>\n",
       "      <td>874724781</td>\n",
       "      <td>0.212121</td>\n",
       "      <td>1</td>\n",
       "      <td>18</td>\n",
       "      <td>367</td>\n",
       "      <td>Psycho (1960)</td>\n",
       "      <td>258</td>\n",
       "      <td>1189</td>\n",
       "    </tr>\n",
       "    <tr>\n",
       "      <th>4</th>\n",
       "      <td>259</td>\n",
       "      <td>172</td>\n",
       "      <td>4.0</td>\n",
       "      <td>874724843</td>\n",
       "      <td>0.212121</td>\n",
       "      <td>1</td>\n",
       "      <td>18</td>\n",
       "      <td>367</td>\n",
       "      <td>Princess Bride, The (1987)</td>\n",
       "      <td>258</td>\n",
       "      <td>1178</td>\n",
       "    </tr>\n",
       "  </tbody>\n",
       "</table>\n",
       "</div>"
      ],
      "text/plain": [
       "   user id  movie id  rating  timestamp       age  sex  occupation  zip_code  \\\n",
       "0      259       254     4.0  874724710  0.212121    1          18       367   \n",
       "1      259       285     4.0  874724727  0.212121    1          18       367   \n",
       "2      259       297     4.0  874724754  0.212121    1          18       367   \n",
       "3      259       184     4.0  874724781  0.212121    1          18       367   \n",
       "4      259       172     4.0  874724843  0.212121    1          18       367   \n",
       "\n",
       "                       movie title  user  movie  \n",
       "0  My Best Friend's Wedding (1997)   258   1025  \n",
       "1      English Patient, The (1996)   258    460  \n",
       "2                  Face/Off (1997)   258    484  \n",
       "3                    Psycho (1960)   258   1189  \n",
       "4       Princess Bride, The (1987)   258   1178  "
      ]
     },
     "execution_count": 110,
     "metadata": {},
     "output_type": "execute_result"
    }
   ],
   "source": [
    "merged_dataset.head()"
   ]
  },
  {
   "cell_type": "code",
   "execution_count": 111,
   "metadata": {
    "colab": {
     "base_uri": "https://localhost:8080/"
    },
    "id": "bKuwDF7pxEgA",
    "outputId": "d87ddc00-2d77-467b-e969-a178b6915885"
   },
   "outputs": [
    {
     "name": "stdout",
     "output_type": "stream",
     "text": [
      "[460, 1302, 1284, 411, 1251, 389, 498, 1523, 783, 666, 1157, 399, 337, 1102, 87, 1005, 390, 1132, 580, 1342, 1558, 7, 612, 1032, 996, 1208, 528, 1615, 604, 432, 643, 1190, 113, 313, 55, 1260]\n"
     ]
    }
   ],
   "source": [
    "\n",
    "user_id = [777]\n",
    "encoded_user_id = user_enc.transform(user_id)\n",
    "\n",
    "seen_movies = list(merged_dataset[merged_dataset['user id'] == user_id[0]]['movie'])\n",
    "print(seen_movies)"
   ]
  },
  {
   "cell_type": "markdown",
   "metadata": {
    "id": "_qMqFifba4Yj"
   },
   "source": [
    "Id's of movies which are already seen by the user are extracted."
   ]
  },
  {
   "cell_type": "code",
   "execution_count": 112,
   "metadata": {
    "colab": {
     "base_uri": "https://localhost:8080/"
    },
    "id": "IjXFgDR4NTkO",
    "outputId": "5d0f7e81-0a74-4937-9d5f-e6bae0b1a710"
   },
   "outputs": [
    {
     "data": {
      "text/plain": [
       "(1664, 0, 1663)"
      ]
     },
     "execution_count": 112,
     "metadata": {},
     "output_type": "execute_result"
    }
   ],
   "source": [
    "len(merged_dataset['movie'].unique()), min(merged_dataset['movie']), max(merged_dataset['movie'])"
   ]
  },
  {
   "cell_type": "markdown",
   "metadata": {
    "id": "Np6LcHMwYTD-"
   },
   "source": [
    "We can understand that the labels are from 0 to 1663. So the movie id's which are not seen by the user can be pciked just by excluding the 'seen_movies' list from the first 1663 natural numbers."
   ]
  },
  {
   "cell_type": "markdown",
   "metadata": {},
   "source": [
    "#### Example Predictions"
   ]
  },
  {
   "cell_type": "code",
   "execution_count": 113,
   "metadata": {},
   "outputs": [
    {
     "data": {
      "text/plain": [
       "[array([[1386,  431,  571, ..., 1013,  465,  134],\n",
       "        [ 431,  571, 1481, ...,  465,  134,  570],\n",
       "        [ 571, 1481, 1373, ...,  134,  570,  711],\n",
       "        ...,\n",
       "        [ 134, 1069, 1048, ..., 1392, 1396, 1397],\n",
       "        [1069, 1048,  208, ..., 1396, 1397, 1390],\n",
       "        [1048,  208, 1362, ..., 1397, 1390, 1391]]),\n",
       " array([[1.00000000e+00, 4.24242424e-01, 1.90000000e+01, 7.22000000e+02],\n",
       "        [1.00000000e+00, 4.24242424e-01, 1.90000000e+01, 7.22000000e+02],\n",
       "        [1.00000000e+00, 4.24242424e-01, 1.90000000e+01, 7.22000000e+02],\n",
       "        ...,\n",
       "        [1.00000000e+00, 2.27272727e-01, 1.80000000e+01, 5.61000000e+02],\n",
       "        [1.00000000e+00, 2.27272727e-01, 1.80000000e+01, 5.61000000e+02],\n",
       "        [1.00000000e+00, 2.27272727e-01, 1.80000000e+01, 5.61000000e+02]]),\n",
       " array([[0.65, 0.3 , 0.  , ..., 0.35, 0.1 , 0.05],\n",
       "        [0.7 , 0.25, 0.  , ..., 0.4 , 0.1 , 0.05],\n",
       "        [0.7 , 0.25, 0.  , ..., 0.4 , 0.1 , 0.05],\n",
       "        ...,\n",
       "        [0.5 , 0.35, 0.  , ..., 0.05, 0.  , 0.1 ],\n",
       "        [0.5 , 0.35, 0.  , ..., 0.05, 0.  , 0.1 ],\n",
       "        [0.55, 0.4 , 0.  , ..., 0.05, 0.  , 0.1 ]])]"
      ]
     },
     "execution_count": 113,
     "metadata": {},
     "output_type": "execute_result"
    }
   ],
   "source": [
    "X_test"
   ]
  },
  {
   "cell_type": "code",
   "execution_count": 114,
   "metadata": {},
   "outputs": [
    {
     "name": "stdout",
     "output_type": "stream",
     "text": [
      "508/508 [==============================] - 7s 14ms/step\n"
     ]
    }
   ],
   "source": [
    "preds = model.predict(X_test)"
   ]
  },
  {
   "cell_type": "code",
   "execution_count": 115,
   "metadata": {},
   "outputs": [],
   "source": [
    "idx = 1"
   ]
  },
  {
   "cell_type": "code",
   "execution_count": 116,
   "metadata": {},
   "outputs": [
    {
     "data": {
      "text/plain": [
       "[<matplotlib.lines.Line2D at 0x149eb8eebc0>]"
      ]
     },
     "execution_count": 116,
     "metadata": {},
     "output_type": "execute_result"
    },
    {
     "data": {
      "image/png": "[encoded data removed]",
      "text/plain": [
       "<Figure size 640x480 with 1 Axes>"
      ]
     },
     "metadata": {},
     "output_type": "display_data"
    }
   ],
   "source": [
    "plt.plot(sorted(preds[idx]))"
   ]
  },
  {
   "cell_type": "code",
   "execution_count": 117,
   "metadata": {},
   "outputs": [],
   "source": [
    "user = X_test[1][idx]\n",
    "movies = X_test[0][idx]"
   ]
  },
  {
   "cell_type": "code",
   "execution_count": 118,
   "metadata": {},
   "outputs": [
    {
     "data": {
      "text/plain": [
       "array([ 431,  571, 1481, 1373, 1329,  768, 1513, 1410, 1516,  884,  945,\n",
       "         97,  792, 1251, 1394,   88, 1013,  465,  134,  570])"
      ]
     },
     "execution_count": 118,
     "metadata": {},
     "output_type": "execute_result"
    }
   ],
   "source": [
    "movies"
   ]
  },
  {
   "cell_type": "code",
   "execution_count": 119,
   "metadata": {},
   "outputs": [
    {
     "name": "stdout",
     "output_type": "stream",
     "text": [
      "array(['Down Periscope (1996)', 'Full Metal Jacket (1987)',\n",
      "       'This Is Spinal Tap (1984)', 'Speed (1994)',\n",
      "       'Silence of the Lambs, The (1991)',\n",
      "       \"Jackie Chan's First Strike (1996)\", 'Tombstone (1993)',\n",
      "       'Strange Days (1995)', 'Top Gun (1986)',\n",
      "       'Long Kiss Goodnight, The (1996)', 'Mars Attacks! (1996)',\n",
      "       'Arsenic and Old Lace (1944)', 'Jumanji (1995)',\n",
      "       'Rock, The (1996)', 'Star Trek: First Contact (1996)',\n",
      "       'Apollo 13 (1995)', 'Mrs. Doubtfire (1993)',\n",
      "       'Escape from New York (1981)', 'Batman Returns (1992)',\n",
      "       'Fugitive, The (1993)'], dtype=object)\n"
     ]
    }
   ],
   "source": [
    "movies_titles = item_enc.inverse_transform(movies)\n",
    "pprint(movies_titles)"
   ]
  },
  {
   "cell_type": "code",
   "execution_count": 120,
   "metadata": {},
   "outputs": [
    {
     "data": {
      "text/plain": [
       "Index(['movie id', 'movie title', 'release date', 'video release date',\n",
       "       'IMDb URL', 'unknown', 'Action', 'Adventure', 'Animation', 'Children',\n",
       "       'Comedy', 'Crime', 'Documentary', 'Drama', 'Fantasy', 'Film-Noir',\n",
       "       'Horror', 'Musical', 'Mystery', 'Romance', 'Sci-Fi', 'Thriller', 'War',\n",
       "       'Western'],\n",
       "      dtype='object')"
      ]
     },
     "execution_count": 120,
     "metadata": {},
     "output_type": "execute_result"
    }
   ],
   "source": [
    "items_dataset.keys()"
   ]
  },
  {
   "cell_type": "code",
   "execution_count": 121,
   "metadata": {},
   "outputs": [
    {
     "data": {
      "text/plain": [
       "<AxesSubplot: >"
      ]
     },
     "execution_count": 121,
     "metadata": {},
     "output_type": "execute_result"
    },
    {
     "data": {
      "image/png": "[encoded data removed]",
      "text/plain": [
       "<Figure size 640x480 with 1 Axes>"
      ]
     },
     "metadata": {},
     "output_type": "display_data"
    }
   ],
   "source": [
    "items_dataset[items_dataset[\"movie title\"].isin(movies_titles)][features].mean(axis=0).sort_values(ascending=False).plot.bar()"
   ]
  },
  {
   "cell_type": "code",
   "execution_count": 122,
   "metadata": {},
   "outputs": [
    {
     "data": {
      "text/plain": [
       "Int64Index([1390, 1547, 1559, 415, 127], dtype='int64')"
      ]
     },
     "execution_count": 122,
     "metadata": {},
     "output_type": "execute_result"
    }
   ],
   "source": [
    "pred_top_n = pd.DataFrame(preds[idx], columns=[\"score\"]).nlargest(5, columns=[\"score\"]).index\n",
    "pred_top_n"
   ]
  },
  {
   "cell_type": "code",
   "execution_count": 123,
   "metadata": {},
   "outputs": [
    {
     "data": {
      "text/plain": [
       "array(['Star Trek III: The Search for Spock (1984)', 'Twister (1996)',\n",
       "       'Under Siege (1992)', 'Die Hard 2 (1990)', 'Basic Instinct (1992)'],\n",
       "      dtype=object)"
      ]
     },
     "execution_count": 123,
     "metadata": {},
     "output_type": "execute_result"
    }
   ],
   "source": [
    "movies_titles = item_enc.inverse_transform(pred_top_n)\n",
    "movies_titles"
   ]
  },
  {
   "cell_type": "markdown",
   "metadata": {},
   "source": [
    "#### Amazing!"
   ]
  },
  {
   "cell_type": "code",
   "execution_count": 124,
   "metadata": {},
   "outputs": [
    {
     "data": {
      "text/plain": [
       "<AxesSubplot: >"
      ]
     },
     "execution_count": 124,
     "metadata": {},
     "output_type": "execute_result"
    },
    {
     "data": {
      "image/png": "[encoded data removed]",
      "text/plain": [
       "<Figure size 640x480 with 1 Axes>"
      ]
     },
     "metadata": {},
     "output_type": "display_data"
    }
   ],
   "source": [
    "items_dataset[items_dataset[\"movie title\"].isin(movies_titles)][features].mean(axis=0).sort_values(ascending=False).plot.bar()"
   ]
  },
  {
   "cell_type": "code",
   "execution_count": null,
   "metadata": {},
   "outputs": [],
   "source": []
  },
  {
   "cell_type": "markdown",
   "metadata": {},
   "source": [
    "#### Compare to benchmark (Collaborative filtering)"
   ]
  },
  {
   "cell_type": "code",
   "execution_count": 80,
   "metadata": {},
   "outputs": [],
   "source": [
    "from scipy.sparse import csr_matrix\n",
    "from sklearn.neighbors import NearestNeighbors"
   ]
  },
  {
   "cell_type": "code",
   "execution_count": 81,
   "metadata": {},
   "outputs": [
    {
     "data": {
      "text/html": [
       "<div>\n",
       "<style scoped>\n",
       "    .dataframe tbody tr th:only-of-type {\n",
       "        vertical-align: middle;\n",
       "    }\n",
       "\n",
       "    .dataframe tbody tr th {\n",
       "        vertical-align: top;\n",
       "    }\n",
       "\n",
       "    .dataframe thead th {\n",
       "        text-align: right;\n",
       "    }\n",
       "</style>\n",
       "<table border=\"1\" class=\"dataframe\">\n",
       "  <thead>\n",
       "    <tr style=\"text-align: right;\">\n",
       "      <th></th>\n",
       "      <th>user id</th>\n",
       "      <th>movie title</th>\n",
       "      <th>rating</th>\n",
       "    </tr>\n",
       "  </thead>\n",
       "  <tbody>\n",
       "    <tr>\n",
       "      <th>0</th>\n",
       "      <td>1</td>\n",
       "      <td>101 Dalmatians (1996)</td>\n",
       "      <td>2.0</td>\n",
       "    </tr>\n",
       "    <tr>\n",
       "      <th>1</th>\n",
       "      <td>1</td>\n",
       "      <td>12 Angry Men (1957)</td>\n",
       "      <td>5.0</td>\n",
       "    </tr>\n",
       "    <tr>\n",
       "      <th>2</th>\n",
       "      <td>1</td>\n",
       "      <td>20,000 Leagues Under the Sea (1954)</td>\n",
       "      <td>3.0</td>\n",
       "    </tr>\n",
       "    <tr>\n",
       "      <th>3</th>\n",
       "      <td>1</td>\n",
       "      <td>2001: A Space Odyssey (1968)</td>\n",
       "      <td>4.0</td>\n",
       "    </tr>\n",
       "    <tr>\n",
       "      <th>4</th>\n",
       "      <td>1</td>\n",
       "      <td>Abyss, The (1989)</td>\n",
       "      <td>3.0</td>\n",
       "    </tr>\n",
       "  </tbody>\n",
       "</table>\n",
       "</div>"
      ],
      "text/plain": [
       "   user id                          movie title  rating\n",
       "0        1                101 Dalmatians (1996)     2.0\n",
       "1        1                  12 Angry Men (1957)     5.0\n",
       "2        1  20,000 Leagues Under the Sea (1954)     3.0\n",
       "3        1         2001: A Space Odyssey (1968)     4.0\n",
       "4        1                    Abyss, The (1989)     3.0"
      ]
     },
     "execution_count": 81,
     "metadata": {},
     "output_type": "execute_result"
    }
   ],
   "source": [
    "merged_dataset_bm = merged_dataset.groupby(by=['user id','movie title'], as_index=False).agg({\"rating\":\"mean\"})\n",
    "\n",
    "merged_dataset_bm.head()"
   ]
  },
  {
   "cell_type": "code",
   "execution_count": 82,
   "metadata": {},
   "outputs": [
    {
     "data": {
      "text/html": [
       "<div>\n",
       "<style scoped>\n",
       "    .dataframe tbody tr th:only-of-type {\n",
       "        vertical-align: middle;\n",
       "    }\n",
       "\n",
       "    .dataframe tbody tr th {\n",
       "        vertical-align: top;\n",
       "    }\n",
       "\n",
       "    .dataframe thead th {\n",
       "        text-align: right;\n",
       "    }\n",
       "</style>\n",
       "<table border=\"1\" class=\"dataframe\">\n",
       "  <thead>\n",
       "    <tr style=\"text-align: right;\">\n",
       "      <th>movie title</th>\n",
       "      <th>'Til There Was You (1997)</th>\n",
       "      <th>1-900 (1994)</th>\n",
       "      <th>101 Dalmatians (1996)</th>\n",
       "      <th>12 Angry Men (1957)</th>\n",
       "      <th>187 (1997)</th>\n",
       "      <th>2 Days in the Valley (1996)</th>\n",
       "      <th>20,000 Leagues Under the Sea (1954)</th>\n",
       "      <th>2001: A Space Odyssey (1968)</th>\n",
       "      <th>3 Ninjas: High Noon At Mega Mountain (1998)</th>\n",
       "      <th>39 Steps, The (1935)</th>\n",
       "      <th>...</th>\n",
       "      <th>Yankee Zulu (1994)</th>\n",
       "      <th>Year of the Horse (1997)</th>\n",
       "      <th>You So Crazy (1994)</th>\n",
       "      <th>Young Frankenstein (1974)</th>\n",
       "      <th>Young Guns (1988)</th>\n",
       "      <th>Young Guns II (1990)</th>\n",
       "      <th>Young Poisoner's Handbook, The (1995)</th>\n",
       "      <th>Zeus and Roxanne (1997)</th>\n",
       "      <th>unknown</th>\n",
       "      <th>Á köldum klaka (Cold Fever) (1994)</th>\n",
       "    </tr>\n",
       "    <tr>\n",
       "      <th>user id</th>\n",
       "      <th></th>\n",
       "      <th></th>\n",
       "      <th></th>\n",
       "      <th></th>\n",
       "      <th></th>\n",
       "      <th></th>\n",
       "      <th></th>\n",
       "      <th></th>\n",
       "      <th></th>\n",
       "      <th></th>\n",
       "      <th></th>\n",
       "      <th></th>\n",
       "      <th></th>\n",
       "      <th></th>\n",
       "      <th></th>\n",
       "      <th></th>\n",
       "      <th></th>\n",
       "      <th></th>\n",
       "      <th></th>\n",
       "      <th></th>\n",
       "      <th></th>\n",
       "    </tr>\n",
       "  </thead>\n",
       "  <tbody>\n",
       "    <tr>\n",
       "      <th>1</th>\n",
       "      <td>0.0</td>\n",
       "      <td>0.0</td>\n",
       "      <td>2.0</td>\n",
       "      <td>5.0</td>\n",
       "      <td>0.0</td>\n",
       "      <td>0.0</td>\n",
       "      <td>3.0</td>\n",
       "      <td>4.0</td>\n",
       "      <td>0.0</td>\n",
       "      <td>0.0</td>\n",
       "      <td>...</td>\n",
       "      <td>0.0</td>\n",
       "      <td>0.0</td>\n",
       "      <td>0.0</td>\n",
       "      <td>5.0</td>\n",
       "      <td>3.0</td>\n",
       "      <td>0.0</td>\n",
       "      <td>0.0</td>\n",
       "      <td>0.0</td>\n",
       "      <td>4.0</td>\n",
       "      <td>0.0</td>\n",
       "    </tr>\n",
       "    <tr>\n",
       "      <th>2</th>\n",
       "      <td>0.0</td>\n",
       "      <td>0.0</td>\n",
       "      <td>0.0</td>\n",
       "      <td>0.0</td>\n",
       "      <td>0.0</td>\n",
       "      <td>0.0</td>\n",
       "      <td>0.0</td>\n",
       "      <td>0.0</td>\n",
       "      <td>1.0</td>\n",
       "      <td>0.0</td>\n",
       "      <td>...</td>\n",
       "      <td>0.0</td>\n",
       "      <td>0.0</td>\n",
       "      <td>0.0</td>\n",
       "      <td>0.0</td>\n",
       "      <td>0.0</td>\n",
       "      <td>0.0</td>\n",
       "      <td>0.0</td>\n",
       "      <td>0.0</td>\n",
       "      <td>0.0</td>\n",
       "      <td>0.0</td>\n",
       "    </tr>\n",
       "    <tr>\n",
       "      <th>3</th>\n",
       "      <td>0.0</td>\n",
       "      <td>0.0</td>\n",
       "      <td>0.0</td>\n",
       "      <td>0.0</td>\n",
       "      <td>2.0</td>\n",
       "      <td>0.0</td>\n",
       "      <td>0.0</td>\n",
       "      <td>0.0</td>\n",
       "      <td>0.0</td>\n",
       "      <td>0.0</td>\n",
       "      <td>...</td>\n",
       "      <td>0.0</td>\n",
       "      <td>0.0</td>\n",
       "      <td>0.0</td>\n",
       "      <td>0.0</td>\n",
       "      <td>0.0</td>\n",
       "      <td>0.0</td>\n",
       "      <td>0.0</td>\n",
       "      <td>0.0</td>\n",
       "      <td>0.0</td>\n",
       "      <td>0.0</td>\n",
       "    </tr>\n",
       "    <tr>\n",
       "      <th>4</th>\n",
       "      <td>0.0</td>\n",
       "      <td>0.0</td>\n",
       "      <td>0.0</td>\n",
       "      <td>0.0</td>\n",
       "      <td>0.0</td>\n",
       "      <td>0.0</td>\n",
       "      <td>0.0</td>\n",
       "      <td>0.0</td>\n",
       "      <td>0.0</td>\n",
       "      <td>0.0</td>\n",
       "      <td>...</td>\n",
       "      <td>0.0</td>\n",
       "      <td>0.0</td>\n",
       "      <td>0.0</td>\n",
       "      <td>0.0</td>\n",
       "      <td>0.0</td>\n",
       "      <td>0.0</td>\n",
       "      <td>0.0</td>\n",
       "      <td>0.0</td>\n",
       "      <td>0.0</td>\n",
       "      <td>0.0</td>\n",
       "    </tr>\n",
       "    <tr>\n",
       "      <th>5</th>\n",
       "      <td>0.0</td>\n",
       "      <td>0.0</td>\n",
       "      <td>2.0</td>\n",
       "      <td>0.0</td>\n",
       "      <td>0.0</td>\n",
       "      <td>0.0</td>\n",
       "      <td>0.0</td>\n",
       "      <td>4.0</td>\n",
       "      <td>0.0</td>\n",
       "      <td>0.0</td>\n",
       "      <td>...</td>\n",
       "      <td>0.0</td>\n",
       "      <td>0.0</td>\n",
       "      <td>0.0</td>\n",
       "      <td>4.0</td>\n",
       "      <td>0.0</td>\n",
       "      <td>0.0</td>\n",
       "      <td>0.0</td>\n",
       "      <td>0.0</td>\n",
       "      <td>4.0</td>\n",
       "      <td>0.0</td>\n",
       "    </tr>\n",
       "  </tbody>\n",
       "</table>\n",
       "<p>5 rows × 1664 columns</p>\n",
       "</div>"
      ],
      "text/plain": [
       "movie title  'Til There Was You (1997)  1-900 (1994)  101 Dalmatians (1996)  \\\n",
       "user id                                                                       \n",
       "1                                  0.0           0.0                    2.0   \n",
       "2                                  0.0           0.0                    0.0   \n",
       "3                                  0.0           0.0                    0.0   \n",
       "4                                  0.0           0.0                    0.0   \n",
       "5                                  0.0           0.0                    2.0   \n",
       "\n",
       "movie title  12 Angry Men (1957)  187 (1997)  2 Days in the Valley (1996)  \\\n",
       "user id                                                                     \n",
       "1                            5.0         0.0                          0.0   \n",
       "2                            0.0         0.0                          0.0   \n",
       "3                            0.0         2.0                          0.0   \n",
       "4                            0.0         0.0                          0.0   \n",
       "5                            0.0         0.0                          0.0   \n",
       "\n",
       "movie title  20,000 Leagues Under the Sea (1954)  \\\n",
       "user id                                            \n",
       "1                                            3.0   \n",
       "2                                            0.0   \n",
       "3                                            0.0   \n",
       "4                                            0.0   \n",
       "5                                            0.0   \n",
       "\n",
       "movie title  2001: A Space Odyssey (1968)  \\\n",
       "user id                                     \n",
       "1                                     4.0   \n",
       "2                                     0.0   \n",
       "3                                     0.0   \n",
       "4                                     0.0   \n",
       "5                                     4.0   \n",
       "\n",
       "movie title  3 Ninjas: High Noon At Mega Mountain (1998)  \\\n",
       "user id                                                    \n",
       "1                                                    0.0   \n",
       "2                                                    1.0   \n",
       "3                                                    0.0   \n",
       "4                                                    0.0   \n",
       "5                                                    0.0   \n",
       "\n",
       "movie title  39 Steps, The (1935)  ...  Yankee Zulu (1994)  \\\n",
       "user id                            ...                       \n",
       "1                             0.0  ...                 0.0   \n",
       "2                             0.0  ...                 0.0   \n",
       "3                             0.0  ...                 0.0   \n",
       "4                             0.0  ...                 0.0   \n",
       "5                             0.0  ...                 0.0   \n",
       "\n",
       "movie title  Year of the Horse (1997)  You So Crazy (1994)  \\\n",
       "user id                                                      \n",
       "1                                 0.0                  0.0   \n",
       "2                                 0.0                  0.0   \n",
       "3                                 0.0                  0.0   \n",
       "4                                 0.0                  0.0   \n",
       "5                                 0.0                  0.0   \n",
       "\n",
       "movie title  Young Frankenstein (1974)  Young Guns (1988)  \\\n",
       "user id                                                     \n",
       "1                                  5.0                3.0   \n",
       "2                                  0.0                0.0   \n",
       "3                                  0.0                0.0   \n",
       "4                                  0.0                0.0   \n",
       "5                                  4.0                0.0   \n",
       "\n",
       "movie title  Young Guns II (1990)  Young Poisoner's Handbook, The (1995)  \\\n",
       "user id                                                                    \n",
       "1                             0.0                                    0.0   \n",
       "2                             0.0                                    0.0   \n",
       "3                             0.0                                    0.0   \n",
       "4                             0.0                                    0.0   \n",
       "5                             0.0                                    0.0   \n",
       "\n",
       "movie title  Zeus and Roxanne (1997)  unknown  \\\n",
       "user id                                         \n",
       "1                                0.0      4.0   \n",
       "2                                0.0      0.0   \n",
       "3                                0.0      0.0   \n",
       "4                                0.0      0.0   \n",
       "5                                0.0      4.0   \n",
       "\n",
       "movie title  Á köldum klaka (Cold Fever) (1994)  \n",
       "user id                                          \n",
       "1                                           0.0  \n",
       "2                                           0.0  \n",
       "3                                           0.0  \n",
       "4                                           0.0  \n",
       "5                                           0.0  \n",
       "\n",
       "[5 rows x 1664 columns]"
      ]
     },
     "execution_count": 82,
     "metadata": {},
     "output_type": "execute_result"
    }
   ],
   "source": [
    "user_to_movie_df = merged_dataset_bm.pivot(\n",
    "    index='user id',\n",
    "     columns='movie title',\n",
    "      values='rating').fillna(0)\n",
    "\n",
    "user_to_movie_df.head()"
   ]
  },
  {
   "cell_type": "code",
   "execution_count": 83,
   "metadata": {},
   "outputs": [
    {
     "data": {
      "text/plain": [
       "<943x1664 sparse matrix of type '<class 'numpy.float32'>'\n",
       "\twith 99693 stored elements in Compressed Sparse Row format>"
      ]
     },
     "execution_count": 83,
     "metadata": {},
     "output_type": "execute_result"
    }
   ],
   "source": [
    "user_to_movie_sparse_df = csr_matrix(user_to_movie_df.values)\n",
    "user_to_movie_sparse_df"
   ]
  },
  {
   "cell_type": "code",
   "execution_count": 84,
   "metadata": {},
   "outputs": [
    {
     "data": {
      "text/html": [
       "<style>#sk-container-id-2 {color: black;background-color: white;}#sk-container-id-2 pre{padding: 0;}#sk-container-id-2 div.sk-toggleable {background-color: white;}#sk-container-id-2 label.sk-toggleable__label {cursor: pointer;display: block;width: 100%;margin-bottom: 0;padding: 0.3em;box-sizing: border-box;text-align: center;}#sk-container-id-2 label.sk-toggleable__label-arrow:before {content: \"▸\";float: left;margin-right: 0.25em;color: #696969;}#sk-container-id-2 label.sk-toggleable__label-arrow:hover:before {color: black;}#sk-container-id-2 div.sk-estimator:hover label.sk-toggleable__label-arrow:before {color: black;}#sk-container-id-2 div.sk-toggleable__content {max-height: 0;max-width: 0;overflow: hidden;text-align: left;background-color: #f0f8ff;}#sk-container-id-2 div.sk-toggleable__content pre {margin: 0.2em;color: black;border-radius: 0.25em;background-color: #f0f8ff;}#sk-container-id-2 input.sk-toggleable__control:checked~div.sk-toggleable__content {max-height: 200px;max-width: 100%;overflow: auto;}#sk-container-id-2 input.sk-toggleable__control:checked~label.sk-toggleable__label-arrow:before {content: \"▾\";}#sk-container-id-2 div.sk-estimator input.sk-toggleable__control:checked~label.sk-toggleable__label {background-color: #d4ebff;}#sk-container-id-2 div.sk-label input.sk-toggleable__control:checked~label.sk-toggleable__label {background-color: #d4ebff;}#sk-container-id-2 input.sk-hidden--visually {border: 0;clip: rect(1px 1px 1px 1px);clip: rect(1px, 1px, 1px, 1px);height: 1px;margin: -1px;overflow: hidden;padding: 0;position: absolute;width: 1px;}#sk-container-id-2 div.sk-estimator {font-family: monospace;background-color: #f0f8ff;border: 1px dotted black;border-radius: 0.25em;box-sizing: border-box;margin-bottom: 0.5em;}#sk-container-id-2 div.sk-estimator:hover {background-color: #d4ebff;}#sk-container-id-2 div.sk-parallel-item::after {content: \"\";width: 100%;border-bottom: 1px solid gray;flex-grow: 1;}#sk-container-id-2 div.sk-label:hover label.sk-toggleable__label {background-color: #d4ebff;}#sk-container-id-2 div.sk-serial::before {content: \"\";position: absolute;border-left: 1px solid gray;box-sizing: border-box;top: 0;bottom: 0;left: 50%;z-index: 0;}#sk-container-id-2 div.sk-serial {display: flex;flex-direction: column;align-items: center;background-color: white;padding-right: 0.2em;padding-left: 0.2em;position: relative;}#sk-container-id-2 div.sk-item {position: relative;z-index: 1;}#sk-container-id-2 div.sk-parallel {display: flex;align-items: stretch;justify-content: center;background-color: white;position: relative;}#sk-container-id-2 div.sk-item::before, #sk-container-id-2 div.sk-parallel-item::before {content: \"\";position: absolute;border-left: 1px solid gray;box-sizing: border-box;top: 0;bottom: 0;left: 50%;z-index: -1;}#sk-container-id-2 div.sk-parallel-item {display: flex;flex-direction: column;z-index: 1;position: relative;background-color: white;}#sk-container-id-2 div.sk-parallel-item:first-child::after {align-self: flex-end;width: 50%;}#sk-container-id-2 div.sk-parallel-item:last-child::after {align-self: flex-start;width: 50%;}#sk-container-id-2 div.sk-parallel-item:only-child::after {width: 0;}#sk-container-id-2 div.sk-dashed-wrapped {border: 1px dashed gray;margin: 0 0.4em 0.5em 0.4em;box-sizing: border-box;padding-bottom: 0.4em;background-color: white;}#sk-container-id-2 div.sk-label label {font-family: monospace;font-weight: bold;display: inline-block;line-height: 1.2em;}#sk-container-id-2 div.sk-label-container {text-align: center;}#sk-container-id-2 div.sk-container {/* jupyter's `normalize.less` sets `[hidden] { display: none; }` but bootstrap.min.css set `[hidden] { display: none !important; }` so we also need the `!important` here to be able to override the default hidden behavior on the sphinx rendered scikit-learn.org. See: https://github.com/scikit-learn/scikit-learn/issues/21755 */display: inline-block !important;position: relative;}#sk-container-id-2 div.sk-text-repr-fallback {display: none;}</style><div id=\"sk-container-id-2\" class=\"sk-top-container\"><div class=\"sk-text-repr-fallback\"><pre>NearestNeighbors(algorithm=&#x27;brute&#x27;, metric=&#x27;cosine&#x27;)</pre><b>In a Jupyter environment, please rerun this cell to show the HTML representation or trust the notebook. <br />On GitHub, the HTML representation is unable to render, please try loading this page with nbviewer.org.</b></div><div class=\"sk-container\" hidden><div class=\"sk-item\"><div class=\"sk-estimator sk-toggleable\"><input class=\"sk-toggleable__control sk-hidden--visually\" id=\"sk-estimator-id-2\" type=\"checkbox\" checked><label for=\"sk-estimator-id-2\" class=\"sk-toggleable__label sk-toggleable__label-arrow\">NearestNeighbors</label><div class=\"sk-toggleable__content\"><pre>NearestNeighbors(algorithm=&#x27;brute&#x27;, metric=&#x27;cosine&#x27;)</pre></div></div></div></div></div>"
      ],
      "text/plain": [
       "NearestNeighbors(algorithm='brute', metric='cosine')"
      ]
     },
     "execution_count": 84,
     "metadata": {},
     "output_type": "execute_result"
    }
   ],
   "source": [
    "knn_model = NearestNeighbors(metric='cosine', algorithm='brute')\n",
    "knn_model.fit(user_to_movie_sparse_df)"
   ]
  },
  {
   "cell_type": "code",
   "execution_count": 85,
   "metadata": {},
   "outputs": [],
   "source": [
    "from pprint import pprint\n",
    "\n",
    "def collaborative_recommender_system(user_id, n_similar_users, n_movies, target): #, user_to_movie_df, knn_model):\n",
    "    def get_similar_users(user, n = 5):\n",
    "        knn_input = np.asarray([user_to_movie_df.values[user-1]])\n",
    "        distances, indices = knn_model.kneighbors(knn_input, n_neighbors=n+1)\n",
    "        return indices.flatten()[1:] + 1, distances.flatten()[1:]\n",
    "\n",
    "\n",
    "    def filtered_movie_recommendations(n = 10):\n",
    "        first_zero_index = np.where(mean_rating_list == 0)[0][-1]\n",
    "        sortd_index = np.argsort(mean_rating_list)[::-1]\n",
    "        sortd_index = sortd_index[:list(sortd_index).index(first_zero_index)]\n",
    "        n = min(len(sortd_index),n)\n",
    "        movies_watched = list(merged_dataset_bm[merged_dataset_bm['user id'] == user_id]['movie title'])\n",
    "        filtered_movie_list = list(movies_list[sortd_index])\n",
    "        count = 0\n",
    "        final_movie_list = []\n",
    "        for i in filtered_movie_list:\n",
    "            # print(i, target)\n",
    "            if i == target:\n",
    "                return True\n",
    "            if i not in movies_watched or i == target:\n",
    "                count+=1\n",
    "                final_movie_list.append(i)\n",
    "            if count == n:\n",
    "                break\n",
    "        if count == 0:\n",
    "            print(\"There are no movies left which are not seen by the input users and seen by similar users. May be increasing the number of similar users who are to be considered may give a chance of suggesting an unseen good movie.\")\n",
    "        else:\n",
    "            pass        \n",
    "        return False\n",
    "\n",
    "    similar_user_list, distance_list = get_similar_users(user_id,n_similar_users)\n",
    "    weightage_list = distance_list/np.sum(distance_list)\n",
    "    mov_rtngs_sim_users = user_to_movie_df.values[similar_user_list]\n",
    "    movies_list = user_to_movie_df.columns\n",
    "    weightage_list = weightage_list[:,np.newaxis] + np.zeros(len(movies_list))\n",
    "    new_rating_matrix = weightage_list*mov_rtngs_sim_users\n",
    "    mean_rating_list = new_rating_matrix.sum(axis =0)\n",
    "    return filtered_movie_recommendations(n_movies)"
   ]
  },
  {
   "cell_type": "code",
   "execution_count": 86,
   "metadata": {},
   "outputs": [
    {
     "name": "stderr",
     "output_type": "stream",
     "text": [
      "100%|███████████████████████████████████████████████████████████████████████████| 16228/16228 [00:46<00:00, 350.42it/s]\n"
     ]
    }
   ],
   "source": [
    "total_count = 0\n",
    "top_10_count = 0\n",
    "for example_idx in tqdm(list(range(cut_idx, len(y)))):\n",
    "    total_count += 1\n",
    "    target = item_enc.inverse_transform([y[example_idx]])[0]\n",
    "    movies_titles = item_enc.inverse_transform(x1[example_idx])\n",
    "    results = collaborative_recommender_system(user_ids[example_idx], 5,10, target=target)\n",
    "    if results:\n",
    "        top_10_count += 1 "
   ]
  },
  {
   "cell_type": "code",
   "execution_count": 87,
   "metadata": {},
   "outputs": [
    {
     "data": {
      "text/plain": [
       "0.05656889327088982"
      ]
     },
     "execution_count": 87,
     "metadata": {},
     "output_type": "execute_result"
    }
   ],
   "source": [
    "top_10_count/total_count"
   ]
  },
  {
   "cell_type": "code",
   "execution_count": null,
   "metadata": {},
   "outputs": [],
   "source": []
  }
 ],
 "metadata": {
  "colab": {
   "authorship_tag": "ABX9TyNEZIZ1oRmoZXi5mI4AT+Ue",
   "collapsed_sections": [],
   "include_colab_link": true,
   "name": "Recommender-System-using-Softmax-DNN.ipynb",
   "provenance": []
  },
  "kernelspec": {
   "display_name": "Python 3 (ipykernel)",
   "language": "python",
   "name": "python3"
  },
  "language_info": {
   "codemirror_mode": {
    "name": "ipython",
    "version": 3
   },
   "file_extension": ".py",
   "mimetype": "text/x-python",
   "name": "python",
   "nbconvert_exporter": "python",
   "pygments_lexer": "ipython3",
   "version": "3.10.8"
  }
 },
 "nbformat": 4,
 "nbformat_minor": 4
}
